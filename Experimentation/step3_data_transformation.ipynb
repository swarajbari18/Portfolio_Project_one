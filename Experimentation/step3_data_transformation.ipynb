{
 "cells": [
  {
   "cell_type": "code",
   "execution_count": 1,
   "id": "78ed5263-4c00-4b7e-a19a-77111ce0b3d5",
   "metadata": {},
   "outputs": [],
   "source": [
    "import os"
   ]
  },
  {
   "cell_type": "code",
   "execution_count": 2,
   "id": "7a189605-6691-4cd6-9096-a8f12d2d94d3",
   "metadata": {},
   "outputs": [
    {
     "data": {
      "text/plain": [
       "'D:\\\\Machine_Learning\\\\Portfolio_Project_one\\\\Experimentation'"
      ]
     },
     "execution_count": 2,
     "metadata": {},
     "output_type": "execute_result"
    }
   ],
   "source": [
    "%pwd"
   ]
  },
  {
   "cell_type": "code",
   "execution_count": 3,
   "id": "8552f417-b88c-416a-80e6-3497b6f9badc",
   "metadata": {},
   "outputs": [],
   "source": [
    "os.chdir('../')"
   ]
  },
  {
   "cell_type": "code",
   "execution_count": 4,
   "id": "50befe18-a9a8-447a-b09b-2d457d09d829",
   "metadata": {},
   "outputs": [
    {
     "data": {
      "text/plain": [
       "'D:\\\\Machine_Learning\\\\Portfolio_Project_one'"
      ]
     },
     "execution_count": 4,
     "metadata": {},
     "output_type": "execute_result"
    }
   ],
   "source": [
    "%pwd"
   ]
  },
  {
   "cell_type": "code",
   "execution_count": 5,
   "id": "2a65a686-f9f0-40e9-8052-0097ef43c4a4",
   "metadata": {},
   "outputs": [],
   "source": [
    "# ENTITY\n",
    "from dataclasses import dataclass\n",
    "from pathlib import Path\n",
    "\n",
    "@dataclass\n",
    "class DataTransformationConfig:\n",
    "    root_dir: Path\n",
    "    data_path: Path\n"
   ]
  },
  {
   "cell_type": "code",
   "execution_count": 6,
   "id": "0d7cb346-b2ad-49d1-9381-5ec886496294",
   "metadata": {},
   "outputs": [],
   "source": [
    "# Configuration Imports\n",
    "\n",
    "from portfolio_project_one.constants import *\n",
    "from portfolio_project_one.utils.common import read_yaml, create_directories"
   ]
  },
  {
   "cell_type": "code",
   "execution_count": 8,
   "id": "3b678169-b56c-4333-aa2b-7b9080c8c35f",
   "metadata": {},
   "outputs": [],
   "source": [
    "#  Updating Configuration Manager\n",
    "class ConfigurationManager:                  \n",
    "    def __init__(\n",
    "        self,\n",
    "        config_filepath = CONFIG_FILE_PATH,                     # These were all defined in constants\n",
    "        params_filepath = PARAMS_FILE_PATH,\n",
    "        schema_filepath = SCHEMA_FILE_PATH\n",
    "    ):\n",
    "\n",
    "        self.config = read_yaml(config_filepath)\n",
    "        self.params = read_yaml(params_filepath)\n",
    "        self.schema = read_yaml(schema_filepath)\n",
    "\n",
    "        create_directories([self.config.artifact_root])\n",
    "\n",
    "\n",
    "    def get_data_transformation_config(self) -> DataTransformationConfig:\n",
    "\n",
    "        config = self.config.data_transformation\n",
    "\n",
    "        create_directories([config.root_dir])\n",
    "\n",
    "        data_transformation_configuration = DataTransformationConfig(\n",
    "            root_dir= config.root_dir,\n",
    "            data_path= config.data_path\n",
    "        )\n",
    "\n",
    "        return data_transformation_configuration"
   ]
  },
  {
   "cell_type": "code",
   "execution_count": 15,
   "id": "49aaedb9-7d66-47fb-8fc2-7b22c4533a72",
   "metadata": {},
   "outputs": [],
   "source": [
    "#  Components\n",
    "\n",
    "import os\n",
    "from portfolio_project_one import logger\n",
    "from sklearn.model_selection import train_test_split\n",
    "import pandas as pd\n",
    "\n",
    "class DataTransformtion:\n",
    "    def __init__(self, config: DataTransformationConfig):\n",
    "        self.config = config\n",
    "\n",
    "    \n",
    "    def train_test_split(self, random_state=None, test_size=0.2):\n",
    "        df = pd.read_csv(self.config.data_path)\n",
    "        # print(df)\n",
    "        train_set, test_set = train_test_split(df,test_size= test_size, random_state=random_state)\n",
    "        train_set.to_csv(os.path.join(self.config.root_dir, 'train.csv'), index = False)\n",
    "        test_set.to_csv(os.path.join(self.config.root_dir, 'test.csv'), index = False)\n",
    "\n",
    "        logger.info(\"Splitted data into training and test datasets\")\n",
    "        logger.info(f' Training dataset shape:  {train_set.shape}')\n",
    "        logger.info(f' Testing dataset shape:  {test_set.shape}')\n",
    "\n",
    "        print(f' Training dataset shape:  {train_set.shape}. \\n Testing dataset shape:  {test_set.shape}')\n",
    "        "
   ]
  },
  {
   "cell_type": "code",
   "execution_count": 16,
   "id": "95fe8419-2440-417f-adb1-45016fd95980",
   "metadata": {},
   "outputs": [
    {
     "name": "stdout",
     "output_type": "stream",
     "text": [
      "[2023-10-08 14:42:40,297: INFO: common: yaml file: config\\config.yaml loaded succesfully]\n",
      "[2023-10-08 14:42:40,299: INFO: common: yaml file: params.yaml loaded succesfully]\n",
      "[2023-10-08 14:42:40,305: INFO: common: yaml file: schema.yaml loaded succesfully]\n",
      "[2023-10-08 14:42:40,307: INFO: common: Created directory at : artifacts]\n",
      "[2023-10-08 14:42:40,309: INFO: common: Created directory at : artifacts/data_transformation]\n",
      "[2023-10-08 14:42:40,435: INFO: 1267827511: Splitted data into training and test datasets]\n",
      "[2023-10-08 14:42:40,435: INFO: 1267827511:  Training dataset shape:  (1279, 12)]\n",
      "[2023-10-08 14:42:40,435: INFO: 1267827511:  Testing dataset shape:  (320, 12)]\n",
      " Training dataset shape:  (1279, 12). \n",
      " Testing dataset shape:  (320, 12)\n"
     ]
    }
   ],
   "source": [
    "#  Pipeline\n",
    "\n",
    "try:\n",
    "    config = ConfigurationManager()\n",
    "    data_transformation_config = config.get_data_transformation_config()\n",
    "    data_transformation = DataTransformtion(config= data_transformation_config)\n",
    "    data_transformation.train_test_split() # at default random state is None and test_size is 20 percent\n",
    "except Exception as e:\n",
    "    raise e"
   ]
  },
  {
   "cell_type": "code",
   "execution_count": null,
   "id": "1d00e149-c3cf-4bc5-b93f-37f4f41639e5",
   "metadata": {},
   "outputs": [],
   "source": []
  }
 ],
 "metadata": {
  "kernelspec": {
   "display_name": "Python 3 (ipykernel)",
   "language": "python",
   "name": "python3"
  },
  "language_info": {
   "codemirror_mode": {
    "name": "ipython",
    "version": 3
   },
   "file_extension": ".py",
   "mimetype": "text/x-python",
   "name": "python",
   "nbconvert_exporter": "python",
   "pygments_lexer": "ipython3",
   "version": "3.11.3"
  }
 },
 "nbformat": 4,
 "nbformat_minor": 5
}
