{
 "cells": [
  {
   "cell_type": "code",
   "execution_count": 1,
   "id": "d1275cd8-97e5-4abe-b759-03d5f3520752",
   "metadata": {},
   "outputs": [],
   "source": [
    "import os"
   ]
  },
  {
   "cell_type": "code",
   "execution_count": 2,
   "id": "d37d1d02-bfbd-49ad-abc6-9b53793a487d",
   "metadata": {},
   "outputs": [
    {
     "data": {
      "text/plain": [
       "'D:\\\\Machine_Learning\\\\Portfolio_Project_one\\\\Experimentation'"
      ]
     },
     "execution_count": 2,
     "metadata": {},
     "output_type": "execute_result"
    }
   ],
   "source": [
    "%pwd"
   ]
  },
  {
   "cell_type": "markdown",
   "id": "19744e82-83a4-439d-b417-1935a9461a12",
   "metadata": {},
   "source": [
    "WE NEED TO GO ONE DIRECTORY BACK"
   ]
  },
  {
   "cell_type": "code",
   "execution_count": 3,
   "id": "46bbbdee-b3d8-44a6-ab68-4cbc68c19037",
   "metadata": {},
   "outputs": [],
   "source": [
    "os.chdir('../')"
   ]
  },
  {
   "cell_type": "code",
   "execution_count": 4,
   "id": "834af837-7ce9-480a-913f-c26d802b9523",
   "metadata": {},
   "outputs": [
    {
     "data": {
      "text/plain": [
       "'D:\\\\Machine_Learning\\\\Portfolio_Project_one'"
      ]
     },
     "execution_count": 4,
     "metadata": {},
     "output_type": "execute_result"
    }
   ],
   "source": [
    "%pwd"
   ]
  },
  {
   "cell_type": "code",
   "execution_count": 5,
   "id": "fd1b79ea-7bca-4723-90b1-55bd81714a50",
   "metadata": {},
   "outputs": [],
   "source": [
    "#  ENTITY\n",
    "from dataclasses import dataclass\n",
    "from pathlib import Path\n",
    "\n",
    "@dataclass(frozen=True)      # you don't have to give self in a dataclass CLASS\n",
    "class DataIngestionConfig:\n",
    "    root_dir: Path\n",
    "    source_URL: str\n",
    "    local_data_file: Path\n",
    "    unzip_dir: Path\n"
   ]
  },
  {
   "cell_type": "code",
   "execution_count": 6,
   "id": "ee45329c-1e6a-43f2-9ebe-007f3d9c9e35",
   "metadata": {},
   "outputs": [],
   "source": [
    "from portfolio_project_one.constants import *\n",
    "from portfolio_project_one.utils.common import read_yaml, create_directories"
   ]
  },
  {
   "cell_type": "code",
   "execution_count": 7,
   "id": "acd5ea77-1d47-4884-85cc-d4b9101c1067",
   "metadata": {},
   "outputs": [],
   "source": [
    "#  Updating Configuratiom Manager inside src/ config\n",
    "\n",
    "class ConfigurationManager:                  \n",
    "    def __init__(\n",
    "        self,\n",
    "        config_filepath = CONFIG_FILE_PATH,                     # These were all defined in constants\n",
    "        params_filepath = PARAMS_FILE_PATH,\n",
    "        schema_filepath = SCHEMA_FILE_PATH\n",
    "    ):\n",
    "\n",
    "        self.config = read_yaml(config_filepath)\n",
    "        self.params = read_yaml(params_filepath)\n",
    "        self.schema = read_yaml(schema_filepath)\n",
    "\n",
    "        create_directories([self.config.artifact_root])\n",
    "\n",
    "\n",
    "\n",
    "    def get_data_ingestion_config(self) -> DataIngestionConfig:   # return type is the entity we created\n",
    "\n",
    "        config = self.config.data_ingestion\n",
    "\n",
    "        create_directories([config.root_dir])     # we did define the root directory but i never had such a directory,  this is solved here\n",
    "\n",
    "        data_ingestion_configuration = DataIngestionConfig(\n",
    "            root_dir= config.root_dir,\n",
    "            source_URL= config.source_URL,\n",
    "            local_data_file= config.local_data_file,\n",
    "            unzip_dir= config.unzip_dir\n",
    "        )\n",
    "\n",
    "        return data_ingestion_configuration"
   ]
  },
  {
   "cell_type": "code",
   "execution_count": 15,
   "id": "bfb85dda-f770-476a-9923-ffcdc5bfb891",
   "metadata": {},
   "outputs": [],
   "source": [
    "#  Updating Components\n",
    "\n",
    "import os\n",
    "import urllib.request as request    # to download the file from the url\n",
    "import zipfile\n",
    "from portfolio_project_one import logger\n",
    "from portfolio_project_one.utils.common import get_size\n",
    "\n",
    "class DataIngestion:\n",
    "    def __init__(self, config: DataIngestionConfig):\n",
    "        self.config = config\n",
    "\n",
    "    def download_data(self):\n",
    "        if not os.path.exists(self.config.local_data_file):\n",
    "            print(self.config.source_URL)\n",
    "            filename, headers = request.urlretrieve(\n",
    "                url = self.config.source_URL,                               # Thw link gave me an error because my repo was private\n",
    "                filename = self.config.local_data_file\n",
    "            )\n",
    "\n",
    "            logger.info(f'{filename} downloaded successfully!, with following info: \\n{headers}')\n",
    "        else:\n",
    "            logger.info(f'File already exists pf size: {get_size(Path(self.config.local_data_file))}')\n",
    "\n",
    "\n",
    "    def extract_zip_file(self):\n",
    "        '''\n",
    "        This will unzip the downloaded zip file\n",
    "        '''\n",
    "        zip_extract_to_path = self.config.unzip_dir\n",
    "        os.makedirs(zip_extract_to_path, exist_ok=True)\n",
    "        with zipfile.ZipFile(self.config.local_data_file, 'r') as zip_file:\n",
    "            zip_file.extractall(zip_extract_to_path)\n",
    "            \n",
    "     "
   ]
  },
  {
   "cell_type": "code",
   "execution_count": 17,
   "id": "6f3c11ad-76fb-4fb7-859b-a2103a0e3dc1",
   "metadata": {},
   "outputs": [
    {
     "name": "stdout",
     "output_type": "stream",
     "text": [
      "[2023-10-06 19:28:05,621: INFO: common: yaml file: config\\config.yaml loaded succesfully]\n",
      "[2023-10-06 19:28:05,623: INFO: common: yaml file: params.yaml loaded succesfully]\n",
      "[2023-10-06 19:28:05,626: INFO: common: yaml file: schema.yaml loaded succesfully]\n",
      "[2023-10-06 19:28:05,628: INFO: common: Created directory at : artifacts]\n",
      "[2023-10-06 19:28:05,630: INFO: common: Created directory at : artifacts/data_ingestion]\n",
      "https://github.com/swarajbari18/DATA/raw/main/winequality-data.zip\n",
      "[2023-10-06 19:28:06,919: INFO: 3093719100: artifacts/data_ingestion/data.zip downloaded successfully!, with following info: \n",
      "Connection: close\n",
      "Content-Length: 23329\n",
      "Cache-Control: max-age=300\n",
      "Content-Security-Policy: default-src 'none'; style-src 'unsafe-inline'; sandbox\n",
      "Content-Type: application/zip\n",
      "ETag: \"c69888a4ae59bc5a893392785a938ccd4937981c06ba8a9d6a21aa52b4ab5b6e\"\n",
      "Strict-Transport-Security: max-age=31536000\n",
      "X-Content-Type-Options: nosniff\n",
      "X-Frame-Options: deny\n",
      "X-XSS-Protection: 1; mode=block\n",
      "X-GitHub-Request-Id: F60A:12FAE4:F7D9:162A6:6520126E\n",
      "Accept-Ranges: bytes\n",
      "Date: Fri, 06 Oct 2023 13:58:06 GMT\n",
      "Via: 1.1 varnish\n",
      "X-Served-By: cache-bom4748-BOM\n",
      "X-Cache: MISS\n",
      "X-Cache-Hits: 0\n",
      "X-Timer: S1696600686.480594,VS0,VE272\n",
      "Vary: Authorization,Accept-Encoding,Origin\n",
      "Access-Control-Allow-Origin: *\n",
      "Cross-Origin-Resource-Policy: cross-origin\n",
      "X-Fastly-Request-ID: 97ac5c9f1432574c64520fbed1814c8c35742f27\n",
      "Expires: Fri, 06 Oct 2023 14:03:06 GMT\n",
      "Source-Age: 0\n",
      "\n",
      "]\n"
     ]
    }
   ],
   "source": [
    "#  Update Pipeline\n",
    "try: \n",
    "    config = ConfigurationManager()\n",
    "    data_ingeston_config = config.get_data_ingestion_config()\n",
    "    data_ingestion = DataIngestion(config= data_ingeston_config)\n",
    "    data_ingestion.download_data()\n",
    "    data_ingestion.extract_zip_file()\n",
    "\n",
    "except Exception as e:\n",
    "    raise e"
   ]
  },
  {
   "cell_type": "code",
   "execution_count": null,
   "id": "579abf1b-1f7a-44b5-a1ad-5929f50071f5",
   "metadata": {},
   "outputs": [],
   "source": []
  }
 ],
 "metadata": {
  "kernelspec": {
   "display_name": "Python 3 (ipykernel)",
   "language": "python",
   "name": "python3"
  },
  "language_info": {
   "codemirror_mode": {
    "name": "ipython",
    "version": 3
   },
   "file_extension": ".py",
   "mimetype": "text/x-python",
   "name": "python",
   "nbconvert_exporter": "python",
   "pygments_lexer": "ipython3",
   "version": "3.11.3"
  }
 },
 "nbformat": 4,
 "nbformat_minor": 5
}
