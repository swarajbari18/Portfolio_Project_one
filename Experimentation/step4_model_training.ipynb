{
 "cells": [
  {
   "cell_type": "code",
   "execution_count": 1,
   "id": "e2745878-a96e-4eb9-a17e-cda9db09c97d",
   "metadata": {},
   "outputs": [],
   "source": [
    "import os"
   ]
  },
  {
   "cell_type": "code",
   "execution_count": 2,
   "id": "47251f45-555c-4d4e-bed4-da36b7229ffb",
   "metadata": {},
   "outputs": [
    {
     "data": {
      "text/plain": [
       "'D:\\\\Machine_Learning\\\\Portfolio_Project_one\\\\Experimentation'"
      ]
     },
     "execution_count": 2,
     "metadata": {},
     "output_type": "execute_result"
    }
   ],
   "source": [
    "%pwd"
   ]
  },
  {
   "cell_type": "code",
   "execution_count": 3,
   "id": "74a36b34-28cf-457a-9761-a52580864d2d",
   "metadata": {},
   "outputs": [],
   "source": [
    "os.chdir('../')"
   ]
  },
  {
   "cell_type": "code",
   "execution_count": 4,
   "id": "6ce0c1c1-34c6-4889-9627-3e2751abfe47",
   "metadata": {},
   "outputs": [
    {
     "data": {
      "text/plain": [
       "'D:\\\\Machine_Learning\\\\Portfolio_Project_one'"
      ]
     },
     "execution_count": 4,
     "metadata": {},
     "output_type": "execute_result"
    }
   ],
   "source": [
    "%pwd"
   ]
  },
  {
   "cell_type": "code",
   "execution_count": 6,
   "id": "cfe31337-caa7-481d-a532-ce4576ceacbf",
   "metadata": {},
   "outputs": [],
   "source": [
    "#  Entity\n",
    "\n",
    "from dataclasses import dataclass\n",
    "from pathlib import Path\n",
    "\n",
    "\n",
    "@dataclass(frozen=True)\n",
    "class ModelTrainerConfig:\n",
    "    root_dir: Path\n",
    "    train_data_path: Path\n",
    "    test_data_path: Path\n",
    "    model_name: str\n",
    "    alpha: float\n",
    "    l1_ratio: float\n",
    "    target_column: str"
   ]
  },
  {
   "cell_type": "code",
   "execution_count": 8,
   "id": "8ae93316-0c79-41ff-84a9-89199c0688a3",
   "metadata": {},
   "outputs": [],
   "source": [
    "#  Cpnfiguration Manager\n",
    "from portfolio_project_one.constants import *\n",
    "from portfolio_project_one.utils.common import read_yaml, create_directories\n",
    "\n",
    "class ConfigurationManager:                  \n",
    "    def __init__(\n",
    "        self,\n",
    "        config_filepath = CONFIG_FILE_PATH,                     # These were all defined in constants\n",
    "        params_filepath = PARAMS_FILE_PATH,\n",
    "        schema_filepath = SCHEMA_FILE_PATH\n",
    "    ):\n",
    "\n",
    "        self.config = read_yaml(config_filepath)\n",
    "        self.params = read_yaml(params_filepath)\n",
    "        self.schema = read_yaml(schema_filepath)\n",
    "\n",
    "        create_directories([self.config.artifact_root])\n",
    "\n",
    "\n",
    "    def get_model_trainer_config(self) -> ModelTrainerConfig:\n",
    "        config = self.config.model_trainer\n",
    "        params = self.params.ElasticNet\n",
    "        schema = self.schema.TARGET_COLUMN\n",
    "\n",
    "        create_directories([config.root_dir])\n",
    "\n",
    "        model_trainer_config = ModelTrainerConfig(\n",
    "            root_dir= config.root_dir,\n",
    "            train_data_path= config.train_data_path,\n",
    "            test_data_path= config.test_data_path,\n",
    "            model_name= config.model_name,\n",
    "            alpha= params.alpha,\n",
    "            l1_ratio= params.l1_ratio,\n",
    "            target_column= schema.name\n",
    "        )\n",
    "\n",
    "        return model_trainer_config"
   ]
  },
  {
   "cell_type": "code",
   "execution_count": 11,
   "id": "f8e794d3-28fe-49d0-8355-2130b8b2646b",
   "metadata": {},
   "outputs": [],
   "source": [
    "#  Components\n",
    "\n",
    "import pandas as pd\n",
    "import os\n",
    "from portfolio_project_one import logger\n",
    "from sklearn.linear_model import ElasticNet\n",
    "import joblib\n",
    "\n",
    "class ModelTrainer:\n",
    "\n",
    "    def __init__(self, config: ModelTrainerConfig):\n",
    "        self.config = config\n",
    "\n",
    "    def train(self):\n",
    "        train_data = pd.read_csv(self.config.train_data_path)\n",
    "        test_data = pd.read_csv(self.config.test_data_path)\n",
    "\n",
    "        X_train = train_data.drop(columns=self.config.target_column)\n",
    "        X_test = test_data.drop(columns=self.config.target_column)\n",
    "        y_train = train_data[self.config.target_column]\n",
    "        y_test = test_data[self.config.target_column]\n",
    "\n",
    "        model = ElasticNet(alpha= self.config.alpha, l1_ratio= self.config.l1_ratio)\n",
    "        model.fit(X_train, y_train)\n",
    "\n",
    "        joblib.dump(model, os.path.join(self.config.root_dir, self.config.model_name))\n",
    "        "
   ]
  },
  {
   "cell_type": "code",
   "execution_count": 12,
   "id": "49b8339a-8a3b-4dcb-ab3e-8b9807fb4b74",
   "metadata": {},
   "outputs": [
    {
     "name": "stdout",
     "output_type": "stream",
     "text": [
      "[2023-10-08 16:19:47,262: INFO: common: yaml file: config\\config.yaml loaded succesfully]\n",
      "[2023-10-08 16:19:47,282: INFO: common: yaml file: params.yaml loaded succesfully]\n",
      "[2023-10-08 16:19:47,283: INFO: common: yaml file: schema.yaml loaded succesfully]\n",
      "[2023-10-08 16:19:47,294: INFO: common: Created directory at : artifacts]\n",
      "[2023-10-08 16:19:47,296: INFO: common: Created directory at : artifacts/model_trainer]\n"
     ]
    }
   ],
   "source": [
    "#  pipeline\n",
    "\n",
    "try: \n",
    "    config = ConfigurationManager()\n",
    "    model_trainer_config = config.get_model_trainer_config()\n",
    "    model_trainer = ModelTrainer(config= model_trainer_config)\n",
    "    model_trainer.train()\n",
    "\n",
    "except Exception as e:\n",
    "    raise e\n",
    "    "
   ]
  },
  {
   "cell_type": "code",
   "execution_count": null,
   "id": "ca362335-ff95-4ca0-afbf-622fc10466f3",
   "metadata": {},
   "outputs": [],
   "source": []
  }
 ],
 "metadata": {
  "kernelspec": {
   "display_name": "Python 3 (ipykernel)",
   "language": "python",
   "name": "python3"
  },
  "language_info": {
   "codemirror_mode": {
    "name": "ipython",
    "version": 3
   },
   "file_extension": ".py",
   "mimetype": "text/x-python",
   "name": "python",
   "nbconvert_exporter": "python",
   "pygments_lexer": "ipython3",
   "version": "3.11.3"
  }
 },
 "nbformat": 4,
 "nbformat_minor": 5
}
