{
 "cells": [
  {
   "cell_type": "code",
   "execution_count": 1,
   "id": "77d5c0c5-b307-41c9-81b8-526e3ee04ea9",
   "metadata": {},
   "outputs": [],
   "source": [
    "import os"
   ]
  },
  {
   "cell_type": "code",
   "execution_count": 2,
   "id": "8135f55f-145e-4a1a-965f-9dd1174a9d3a",
   "metadata": {},
   "outputs": [
    {
     "data": {
      "text/plain": [
       "'D:\\\\Machine_Learning\\\\Portfolio_Project_one\\\\Experimentation'"
      ]
     },
     "execution_count": 2,
     "metadata": {},
     "output_type": "execute_result"
    }
   ],
   "source": [
    "%pwd"
   ]
  },
  {
   "cell_type": "code",
   "execution_count": 3,
   "id": "d605bac3-99f1-435e-a09c-01f6341ab752",
   "metadata": {},
   "outputs": [],
   "source": [
    "os.chdir('../')"
   ]
  },
  {
   "cell_type": "code",
   "execution_count": 4,
   "id": "2ba28227-6007-41c1-80fe-3f38ea5e32cd",
   "metadata": {},
   "outputs": [
    {
     "data": {
      "text/plain": [
       "'D:\\\\Machine_Learning\\\\Portfolio_Project_one'"
      ]
     },
     "execution_count": 4,
     "metadata": {},
     "output_type": "execute_result"
    }
   ],
   "source": [
    "%pwd"
   ]
  },
  {
   "cell_type": "code",
   "execution_count": 21,
   "id": "35d50d7a-303a-4ac7-8b6c-bd298e0205e7",
   "metadata": {},
   "outputs": [],
   "source": [
    "#  Adding Environment Variables  ( No need to copy this to modular code since we used git bash to export them)\n",
    "\n",
    "os.environ[\"MLFLOW_TRACKING_URI\"]=\"https://dagshub.com/swarajbari18/Portfolio_Project_one.mlflow\"\n",
    "os.environ[\"MLFLOW_TRACKING_USERNAME\"]=\"swarajbari18\"\n",
    "os.environ[\"MLFLOW_TRACKING_PASSWORD\"]=\"624708f51d3a09f6c16c93c4ba5a1491c9137622\"\n",
    "\n"
   ]
  },
  {
   "cell_type": "code",
   "execution_count": 14,
   "id": "8f0caf40-69b6-4073-88fa-81d70003b830",
   "metadata": {},
   "outputs": [],
   "source": [
    "#  Entity\n",
    "from dataclasses import dataclass\n",
    "from pathlib import Path\n",
    "\n",
    "@dataclass(frozen=True)\n",
    "class ModelEvaluationConfig:\n",
    "    root_dir: Path\n",
    "    test_data_path: Path\n",
    "    model_path: Path\n",
    "    all_params: dict\n",
    "    metric_file_name: Path\n",
    "    target_column: str\n",
    "    mlflow_uri: str\n"
   ]
  },
  {
   "cell_type": "code",
   "execution_count": 16,
   "id": "d2f8c17f-18f3-483a-8eb6-ae9c8adf2474",
   "metadata": {},
   "outputs": [],
   "source": [
    "#  Configuration Manager\n",
    "from portfolio_project_one.constants import *\n",
    "from portfolio_project_one.utils.common import read_yaml, create_directories, save_json\n",
    "\n",
    "class ConfigurationManager:                  \n",
    "    def __init__(\n",
    "        self,\n",
    "        config_filepath = CONFIG_FILE_PATH,                     # These were all defined in constants\n",
    "        params_filepath = PARAMS_FILE_PATH,\n",
    "        schema_filepath = SCHEMA_FILE_PATH\n",
    "    ):\n",
    "\n",
    "        self.config = read_yaml(config_filepath)\n",
    "        self.params = read_yaml(params_filepath)\n",
    "        self.schema = read_yaml(schema_filepath)\n",
    "\n",
    "        create_directories([self.config.artifact_root])\n",
    "\n",
    "\n",
    "    def get_model_evaluation_configuration(self) -> ModelEvaluationConfig:\n",
    "        config = self.config.model_evaluation\n",
    "        params = self.params.ElasticNet\n",
    "        schema = self.schema.TARGET_COLUMN\n",
    "\n",
    "        create_directories([config.root_dir])\n",
    "\n",
    "        model_evaluation_config = ModelEvaluationConfig(\n",
    "            root_dir= config.root_dir,\n",
    "            test_data_path= config.test_data_path,\n",
    "            model_path= config.model_path,\n",
    "            all_params= params,\n",
    "            metric_file_name= config.metric_file_name,\n",
    "            target_column= schema.name,\n",
    "            mlflow_uri= \"https://dagshub.com/swarajbari18/Portfolio_Project_one.mlflow\"\n",
    "        )\n",
    "        return model_evaluation_config\n",
    "\n"
   ]
  },
  {
   "cell_type": "code",
   "execution_count": 23,
   "id": "b8af7b37-fed7-49ae-8283-1396a8e381a0",
   "metadata": {},
   "outputs": [],
   "source": [
    "import os\n",
    "import pandas as pd\n",
    "from sklearn.metrics import mean_squared_error, mean_absolute_error, r2_score\n",
    "from urllib.parse import urlparse\n",
    "import mlflow\n",
    "import mlflow.sklearn\n",
    "import numpy as np\n",
    "import joblib\n",
    "\n",
    "\n",
    "class ModelEvaluation:\n",
    "    def __init__(self, config: ModelEvaluationConfig):\n",
    "        self.config = config\n",
    "\n",
    "    def evaluate_metrics(self, actual, predicted):\n",
    "        rmse = np.sqrt(mean_squared_error(actual, predicted))\n",
    "        mae = mean_absolute_error(actual, predicted)\n",
    "        r2 = r2_score(actual, predicted)\n",
    "        return rmse, mae, r2\n",
    "\n",
    "    def log_metrics_to_mlflow(self):\n",
    "\n",
    "        test_data = pd.read_csv(self.config.test_data_path)\n",
    "        model = joblib.load(self.config.model_path)\n",
    "\n",
    "        X_test = test_data.drop(columns= self.config.target_column)\n",
    "        y_test = test_data[self.config.target_column]\n",
    "\n",
    "        mlflow.set_registry_uri(self.config.mlflow_uri)\n",
    "        tracking_url_type_store = urlparse(mlflow.get_tracking_uri()).scheme   # if we don't have a remote server uri, then this will return file, \n",
    "                                                                                # since the mlflow also runs locally\n",
    "        with mlflow.start_run():\n",
    "\n",
    "            predictions = model.predict(X_test)\n",
    "            (rmse, mae, r2) = self.evaluate_metrics(y_test, predictions)\n",
    "\n",
    "            #  Saving metrics at local machine\n",
    "            scores = {'rmse': rmse, 'mae': mae, 'r2_score': r2}\n",
    "            save_json(path= Path(self.config.metric_file_name), data= scores)\n",
    "\n",
    "            #  logging metrics to mlflow\n",
    "            mlflow.log_metric(\"Root Mean Squared Error\", rmse)\n",
    "            mlflow.log_metric(\"Mean Absolute Error\", mae)\n",
    "            mlflow.log_metric(\"R2 Square\", r2)\n",
    "\n",
    "            # Model Registry does not work with file store\n",
    "            if tracking_url_type_store != \"file\":\n",
    "                #  Register the model\n",
    "                #  There are several other ways to use Model Registry as well\n",
    "                mlflow.sklearn.log_model(model, \"model\", registered_model_name=\"ElasticnetModel\")\n",
    "\n",
    "            else:\n",
    "                mlflow.sklearn.log_model(model, \"model\")"
   ]
  },
  {
   "cell_type": "code",
   "execution_count": 24,
   "id": "89250f00-5969-430a-a583-f34588b05b9f",
   "metadata": {},
   "outputs": [
    {
     "name": "stdout",
     "output_type": "stream",
     "text": [
      "[2023-10-09 16:43:10,131: INFO: common: yaml file: config\\config.yaml loaded succesfully]\n",
      "[2023-10-09 16:43:10,135: INFO: common: yaml file: params.yaml loaded succesfully]\n",
      "[2023-10-09 16:43:10,139: INFO: common: yaml file: schema.yaml loaded succesfully]\n",
      "[2023-10-09 16:43:10,141: INFO: common: Created directory at : artifacts]\n",
      "[2023-10-09 16:43:10,143: INFO: common: Created directory at : artifacts/model_evaluation]\n",
      "[2023-10-09 16:43:12,221: INFO: common: Saved json file successfully at:artifacts\\model_evaluation\\metrics.json]\n"
     ]
    },
    {
     "name": "stderr",
     "output_type": "stream",
     "text": [
      "D:\\Machine_Learning\\Portfolio_Project_one\\VirtualEnvironment\\Lib\\site-packages\\_distutils_hack\\__init__.py:33: UserWarning: Setuptools is replacing distutils.\n",
      "  warnings.warn(\"Setuptools is replacing distutils.\")\n",
      "Successfully registered model 'ElasticnetModel'.\n",
      "2023/10/09 16:44:15 INFO mlflow.tracking._model_registry.client: Waiting up to 300 seconds for model version to finish creation.                     Model name: ElasticnetModel, version 1\n",
      "Created version '1' of model 'ElasticnetModel'.\n"
     ]
    }
   ],
   "source": [
    "try: \n",
    "    config = ConfigurationManager()\n",
    "    model_evaluation_config = config.get_model_evaluation_configuration()\n",
    "    model_evaluation = ModelEvaluation(config= model_evaluation_config)\n",
    "    model_evaluation.log_metrics_to_mlflow()\n",
    "\n",
    "except Exception as e:\n",
    "    raise e"
   ]
  },
  {
   "cell_type": "code",
   "execution_count": null,
   "id": "69cfb810-7bab-479e-96d9-9dc627095017",
   "metadata": {},
   "outputs": [],
   "source": []
  },
  {
   "cell_type": "code",
   "execution_count": null,
   "id": "9e1841b3-9405-4210-b6b7-f42d5d9d6d7f",
   "metadata": {},
   "outputs": [],
   "source": []
  }
 ],
 "metadata": {
  "kernelspec": {
   "display_name": "Python 3 (ipykernel)",
   "language": "python",
   "name": "python3"
  },
  "language_info": {
   "codemirror_mode": {
    "name": "ipython",
    "version": 3
   },
   "file_extension": ".py",
   "mimetype": "text/x-python",
   "name": "python",
   "nbconvert_exporter": "python",
   "pygments_lexer": "ipython3",
   "version": "3.11.3"
  }
 },
 "nbformat": 4,
 "nbformat_minor": 5
}
